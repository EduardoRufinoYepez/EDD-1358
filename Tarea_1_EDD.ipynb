{
  "nbformat": 4,
  "nbformat_minor": 0,
  "metadata": {
    "colab": {
      "name": "Tarea 1 EDD.ipynb",
      "provenance": [],
      "authorship_tag": "ABX9TyN6E5/YnIdcL9Ja9KHx4Ap1",
      "include_colab_link": true
    },
    "kernelspec": {
      "name": "python3",
      "display_name": "Python 3"
    },
    "language_info": {
      "name": "python"
    }
  },
  "cells": [
    {
      "cell_type": "markdown",
      "metadata": {
        "id": "view-in-github",
        "colab_type": "text"
      },
      "source": [
        "<a href=\"https://colab.research.google.com/github/EduardoRufinoYepez/EDD-1358/blob/Trabajo/Tarea_1_EDD.ipynb\" target=\"_parent\"><img src=\"https://colab.research.google.com/assets/colab-badge.svg\" alt=\"Open In Colab\"/></a>"
      ]
    },
    {
      "cell_type": "code",
      "metadata": {
        "id": "EcVQ8duXJTVd"
      },
      "source": [
        "texto = \"\"\"Horacio Quiroga\n",
        "(1879-1937)\n",
        "\n",
        "\n",
        "A LA DERIVA\n",
        "(Cuentos de amor, de locura y de muerte, (1917)\n",
        "\n",
        "\n",
        "\n",
        "         El hombre pisó blanduzco, y en seguida sintió la mordedura en el pie. Saltó adelante, y al volverse con un juramento vio una yararacusú que arrollada sobre sí misma esperaba otro ataque.\n",
        "         El hombre echó una veloz ojeada a su pie, donde dos gotitas de sangre engrosaban dificultosamente, y sacó el machete de la cintura. La víbora vio la amenaza, y hundió más la cabeza en el centro mismo de su espiral; pero el machete cayó de lomo, dislocándole las vértebras.\n",
        "         El hombre se bajó hasta la mordedura, quitó las gotitas de sangre, y durante un instante contempló. Un dolor agudo nacía de los dos puntitos violetas, y comenzaba a invadir todo el pie. Apresuradamente se ligó el tobillo con su pañuelo y siguió por la picada hacia su rancho.\n",
        "         El dolor en el pie aumentaba, con sensación de tirante abultamiento, y de pronto el hombre sintió dos o tres fulgurantes puntadas que como relámpagos habían irradiado desde la herida hasta la mitad de la pantorrilla. Movía la pierna con dificultad; una metálica sequedad de garganta, seguida de sed quemante, le arrancó un nuevo juramento.\n",
        "         Llegó por fin al rancho, y se echó de brazos sobre la rueda de un trapiche. Los dos puntitos violeta desaparecían ahora en la monstruosa hinchazón del pie entero. La piel parecía adelgazada y a punto de ceder, de tensa. Quiso llamar a su mujer, y la voz se quebró en un ronco arrastre de garganta reseca. La sed lo devoraba.\n",
        "         —¡Dorotea! —alcanzó a lanzar en un estertor—. ¡Dame caña!\n",
        "         Su mujer corrió con un vaso lleno, que el hombre sorbió en tres tragos. Pero no había sentido gusto alguno.\n",
        "         —¡Te pedí caña, no agua! —rugió de nuevo. ¡Dame caña!\n",
        "         —¡Pero es caña, Paulino! —protestó la mujer espantada.\n",
        "         —¡No, me diste agua! ¡Quiero caña, te digo!\n",
        "         La mujer corrió otra vez, volviendo con la damajuana. El hombre tragó uno tras otro dos vasos, pero no sintió nada en la garganta.\n",
        "         —Bueno; esto se pone feo —murmuró entonces, mirando su pie lívido y ya con lustre gangrenoso. Sobre la honda ligadura del pañuelo, la carne desbordaba como una monstruosa morcilla.\n",
        "         Los dolores fulgurantes se sucedían en continuos relampagueos, y llegaban ahora a la ingle. La atroz sequedad de garganta que el aliento parecía caldear más, aumentaba a la par. Cuando pretendió incorporarse, un fulminante vómito lo mantuvo medio minuto con la frente apoyada en la rueda de palo.\n",
        "         Pero el hombre no quería morir, y descendiendo hasta la costa subió a su canoa. Sentóse en la popa y comenzó a palear hasta el centro del Paraná. Allí la corriente del río, que en las inmediaciones del Iguazú corre seis millas, lo llevaría antes de cinco horas a Tacurú-Pucú.\n",
        "         El hombre, con sombría energía, pudo efectivamente llegar hasta el medio del río; pero allí sus manos dormidas dejaron caer la pala en la canoa, y tras un nuevo vómito —de sangre esta vez—dirigió una mirada al sol que ya trasponía el monte.\n",
        "         La pierna entera, hasta medio muslo, era ya un bloque deforme y durísimo que reventaba la ropa. El hombre cortó la ligadura y abrió el pantalón con su cuchillo: el bajo vientre desbordó hinchado, con grandes manchas lívidas y terriblemente doloroso. El hombre pensó que no podría jamás llegar él solo a Tacurú-Pucú, y se decidió a pedir ayuda a su compadre Alves, aunque hacía mucho tiempo que estaban disgustados.\n",
        "         La corriente del río se precipitaba ahora hacia la costa brasileña, y el hombre pudo fácilmente atracar. Se arrastró por la picada en cuesta arriba, pero a los veinte metros, exhausto, quedó tendido de pecho.\n",
        "         —¡Alves! —gritó con cuanta fuerza pudo; y prestó oído en vano.\n",
        "         —¡Compadre Alves! ¡No me niegue este favor! —clamó de nuevo, alzando la cabeza del suelo. En el silencio de la selva no se oyó un solo rumor. El hombre tuvo aún valor para llegar hasta su canoa, y la corriente, cogiéndola de nuevo, la llevó velozmente a la deriva.\n",
        "         El Paraná corre allí en el fondo de una inmensa hoya, cuyas paredes, altas de cien metros, encajonan fúnebremente el río. Desde las orillas bordeadas de negros bloques de basalto, asciende el bosque, negro también. Adelante, a los costados, detrás, la eterna muralla lúgubre, en cuyo fondo el río arremolinado se precipita en incesantes borbollones de agua fangosa. El paisaje es agresivo, y reina en él un silencio de muerte. Al atardecer, sin embargo, su belleza sombría y calma cobra una majestad única.\n",
        "         El sol había caído ya cuando el hombre, semitendido en el fondo de la canoa, tuvo un violento escalofrío. Y de pronto, con asombro, enderezó pesadamente la cabeza: se sentía mejor. La pierna le dolía apenas, la sed disminuía, y su pecho, libre ya, se abría en lenta inspiración.\n",
        "         El veneno comenzaba a irse, no había duda. Se hallaba casi bien, y aunque no tenía fuerzas para mover la mano, contaba con la caída del rocío para reponerse del todo. Calculó que antes de tres horas estaría en Tacurú-Pucú.\n",
        "         El bienestar avanzaba, y con él una somnolencia llena de recuerdos. No sentía ya nada ni en la pierna ni en el vientre. ¿Viviría aún su compadre Gaona en Tacurú-Pucú? Acaso viera también a su ex patrón mister Dougald, y al recibidor del obraje.\n",
        "         ¿Llegaría pronto? El cielo, al poniente, se abría ahora en pantalla de oro, y el río se había coloreado también. Desde la costa paraguaya, ya entenebrecida, el monte dejaba caer sobre el río su frescura crepuscular, en penetrantes efluvios de azahar y miel silvestre. Una pareja de guacamayos cruzó muy alto y en silencio hacia el Paraguay.\n",
        "         Allá abajo, sobre el río de oro, la canoa derivaba velozmente, girando a ratos sobre sí misma ante el borbollón de un remolino. El hombre que iba en ella se sentía cada vez mejor, y pensaba entretanto en el tiempo justo que había pasado sin ver a su ex patrón Dougald. ¿Tres años? Tal vez no, no tanto. ¿Dos años y nueve meses? Acaso. ¿Ocho meses y medio? Eso sí, seguramente.\n",
        "         De pronto sintió que estaba helado hasta el pecho. ¿Qué sería? Y la respiración también...\n",
        "         Al recibidor de maderas de mister Dougald, Lorenzo Cubilla, lo había conocido en Puerto Esperanza un viernes santo... ¿Viernes? Sí, o jueves...\n",
        "         El hombre estiró lentamente los dedos de la mano.\n",
        "         —Un jueves...\n",
        "         Y cesó de respirar.\"\"\"\n",
        "print(texto.lower())\n",
        "palabras = texto.split(\" \")\n",
        "diccionariofrec = {}\n",
        "for palabra in palabras:\n",
        "  if palabra in diccionariofrec:\n",
        "    diccionariofrec[palabra] += 1\n",
        "  else:\n",
        "    diccionariofrec[palabra] = 1\n",
        "\n",
        "for palabra in diccionariofrec:\n",
        "  frecuencia = diccionariofrec[palabra]\n",
        "  print(f\"la palabra {palabra} se repite {frecuencia}\")"
      ],
      "execution_count": null,
      "outputs": []
    }
  ]
}