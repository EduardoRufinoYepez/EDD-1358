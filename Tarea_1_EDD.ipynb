{
  "nbformat": 4,
  "nbformat_minor": 0,
  "metadata": {
    "colab": {
      "name": "Tarea 1 EDD",
      "provenance": [],
      "authorship_tag": "ABX9TyO7IvxpAvMbADD+ieXKBwNc",
      "include_colab_link": true
    },
    "kernelspec": {
      "name": "python3",
      "display_name": "Python 3"
    },
    "language_info": {
      "name": "python"
    }
  },
  "cells": [
    {
      "cell_type": "markdown",
      "metadata": {
        "id": "view-in-github",
        "colab_type": "text"
      },
      "source": [
        "<a href=\"https://colab.research.google.com/github/EduardoRufinoYepez/EDD-1358/blob/main/Tarea_1_EDD.ipynb\" target=\"_parent\"><img src=\"https://colab.research.google.com/assets/colab-badge.svg\" alt=\"Open In Colab\"/></a>"
      ]
    },
    {
      "cell_type": "code",
      "metadata": {
        "colab": {
          "base_uri": "https://localhost:8080/"
        },
        "id": "wRPsR15X58-U",
        "outputId": "4fbc43eb-9cdf-43f3-bbf5-d391cccfab7f"
      },
      "source": [
        "def numerosInternacionales(pais):\n",
        "    switch={\n",
        "        \"mexico\": \"+52\",\n",
        "        \"canada\": \"+1\",\n",
        "        \"eu\": \"+1\",\n",
        "        \"brasil\": \"+55\",\n",
        "        \"irlanda\": \"76\"\n",
        "    }\n",
        "    return switch.get(pais.lower(),\"STDERR\")\n",
        "\n",
        "x = int(1)\n",
        "while(x == 1):\n",
        "    numero = str(input(\"¿Cuál es el número de teléfono?\"))\n",
        "    pais = str(input(\"¿De qué país es éste teléfono? (sin acentos)\"))\n",
        "    if(numerosInternacionales(pais) == \"STDERR\"):\n",
        "        print(\"Por favor ingresa un país valido y sin acentos.\")\n",
        "    else:\n",
        "        x = 0\n",
        "\n",
        "print(numerosInternacionales(pais)+numero.replace(\" \",\"\"));"
      ],
      "execution_count": null,
      "outputs": [
        {
          "output_type": "stream",
          "name": "stdout",
          "text": [
            "¿Cuál es el número de teléfono?5588031072\n",
            "¿De qué país es éste teléfono? (sin acentos)mexico\n",
            "+525588031072\n"
          ]
        }
      ]
    }
  ]
}