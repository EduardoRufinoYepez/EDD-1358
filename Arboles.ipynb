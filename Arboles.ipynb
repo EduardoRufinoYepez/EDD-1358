{
  "nbformat": 4,
  "nbformat_minor": 0,
  "metadata": {
    "colab": {
      "name": "Arboles.ipynb",
      "provenance": [],
      "authorship_tag": "ABX9TyPExwQh6bH5htf6XDmh9sS0",
      "include_colab_link": true
    },
    "kernelspec": {
      "name": "python3",
      "display_name": "Python 3"
    },
    "language_info": {
      "name": "python"
    }
  },
  "cells": [
    {
      "cell_type": "markdown",
      "metadata": {
        "id": "view-in-github",
        "colab_type": "text"
      },
      "source": [
        "<a href=\"https://colab.research.google.com/github/EduardoRufinoYepez/EDD-1358/blob/main/Arboles.ipynb\" target=\"_parent\"><img src=\"https://colab.research.google.com/assets/colab-badge.svg\" alt=\"Open In Colab\"/></a>"
      ]
    },
    {
      "cell_type": "code",
      "metadata": {
        "id": "aQjCCkaYgpu1"
      },
      "source": [
        "class BinaryNode:\n",
        "  def __init__(self, value , left=None , rigth= None):\n",
        "    self.data = value\n",
        "    self.left = left\n",
        "    self.rigth = rigth"
      ],
      "execution_count": null,
      "outputs": []
    },
    {
      "cell_type": "code",
      "metadata": {
        "id": "bqy7X7kPgvyo"
      },
      "source": [
        "class TernaryNode:\n",
        "  def __init__(self, value , left=None , rigth= None,center= None):\n",
        "    self.data = value\n",
        "    self.left = left\n",
        "    self.center = center\n",
        "    self.rigth = rigth"
      ],
      "execution_count": null,
      "outputs": []
    },
    {
      "cell_type": "code",
      "metadata": {
        "id": "NKOHdll-gxiZ"
      },
      "source": [
        "root = BinaryNode(\"R\",BinaryNode(\"C\"),BinaryNode(\"H\"))\n",
        "print( root.left.data )"
      ],
      "execution_count": null,
      "outputs": []
    },
    {
      "cell_type": "code",
      "metadata": {
        "id": "H6Ahf2rvgzpJ"
      },
      "source": [
        "root = TernaryNode(4,TernaryNode(3,TernaryNode(5,left=TernaryNode(2)),\\\n",
        "        TernaryNode(5),TernaryNode(2)), None, TernaryNode(5) ) \n",
        "print(root.left.left.left.data)\n",
        "print(\".-.--.-.-.-.-.-.-.\")\n",
        "aux = root\n",
        "while aux.left != None :\n",
        "  aux = aux.left\n",
        "print(aux.data)\n",
        "print(\".-.--.-.-.-.-.-.-.\")\n",
        "print(root.left.rigth.data)"
      ],
      "execution_count": null,
      "outputs": []
    },
    {
      "cell_type": "code",
      "metadata": {
        "id": "9fBKXexng1bL"
      },
      "source": [
        "root = BinaryNode(\"santi\",None, BinaryNode( \"jesus\",BinaryNode(\"pedro\",None, BinaryNode(\"pedro chikito\"))))\n",
        "print( root.rigth.left.rigth.data )"
      ],
      "execution_count": null,
      "outputs": []
    }
  ]
}