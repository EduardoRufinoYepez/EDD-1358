{
  "nbformat": 4,
  "nbformat_minor": 0,
  "metadata": {
    "colab": {
      "name": "recursividad basica.ipynb",
      "provenance": [],
      "authorship_tag": "ABX9TyOEc+B9P7ySVDnnqbwEZ3xi",
      "include_colab_link": true
    },
    "kernelspec": {
      "name": "python3",
      "display_name": "Python 3"
    },
    "language_info": {
      "name": "python"
    }
  },
  "cells": [
    {
      "cell_type": "markdown",
      "metadata": {
        "id": "view-in-github",
        "colab_type": "text"
      },
      "source": [
        "<a href=\"https://colab.research.google.com/github/EduardoRufinoYepez/EDD-1358/blob/main/recursividad_basica.ipynb\" target=\"_parent\"><img src=\"https://colab.research.google.com/assets/colab-badge.svg\" alt=\"Open In Colab\"/></a>"
      ]
    },
    {
      "cell_type": "code",
      "metadata": {
        "colab": {
          "base_uri": "https://localhost:8080/",
          "height": 129
        },
        "id": "EVwF-hgLtu6s",
        "outputId": "e252eea8-ca0d-4dfa-a8b7-2dee59506e68"
      },
      "source": [
        "n - 3\n",
        "\n",
        "def factorial(n) :\n",
        "    resultdo = 0\n",
        "    if n == 0:\n",
        "      return = 1\n",
        "    else: \n",
        "      return * factorial(n - 1) \n",
        "\n",
        "n = 3\n",
        "  print(factorial ( n ))\n",
        "  \n"
      ],
      "execution_count": 4,
      "outputs": [
        {
          "output_type": "error",
          "ename": "SyntaxError",
          "evalue": "ignored",
          "traceback": [
            "\u001b[0;36m  File \u001b[0;32m\"<ipython-input-4-e91e9748bba6>\"\u001b[0;36m, line \u001b[0;32m6\u001b[0m\n\u001b[0;31m    return = 1\u001b[0m\n\u001b[0m           ^\u001b[0m\n\u001b[0;31mSyntaxError\u001b[0m\u001b[0;31m:\u001b[0m invalid syntax\n"
          ]
        }
      ]
    },
    {
      "cell_type": "code",
      "metadata": {
        "colab": {
          "base_uri": "https://localhost:8080/"
        },
        "id": "bHKHQiA5wv4A",
        "outputId": "68305fa9-6f41-4d9a-fa2d-b0e687af0bcb"
      },
      "source": [
        "def printRev( n ):          #3    2      1      \n",
        "    if n > 0:\n",
        "      print( n )\n",
        "      printRev( n - 1)\n",
        "\n",
        "n = 3\n",
        "printRev( n )\n"
      ],
      "execution_count": 2,
      "outputs": [
        {
          "output_type": "stream",
          "name": "stdout",
          "text": [
            "3\n",
            "2\n",
            "1\n"
          ]
        }
      ]
    },
    {
      "cell_type": "code",
      "metadata": {
        "colab": {
          "base_uri": "https://localhost:8080/"
        },
        "id": "7nW8FIp0xgke",
        "outputId": "c62e7077-0f40-4dc9-c1d2-6cf8121fa7c4"
      },
      "source": [
        "def printRev( n ):          #3    2      1      \n",
        "    if n > 0:\n",
        "     \n",
        "      printRev( n - 1)\n",
        "      print( n )\n",
        "n = 3\n",
        "printRev( n )"
      ],
      "execution_count": 3,
      "outputs": [
        {
          "output_type": "stream",
          "name": "stdout",
          "text": [
            "1\n",
            "2\n",
            "3\n"
          ]
        }
      ]
    },
    {
      "cell_type": "code",
      "metadata": {
        "id": "Dk9pjK1i0uI-"
      },
      "source": [
        "def fibonachi(n):\n",
        "  if n == 0:\n",
        "    return 0\n",
        "  if n == 1:\n",
        "    return 1\n",
        "  if n > 1:\n",
        "    return fibonachi(n - 1) + fibonachi(n-2)   \n",
        "   \n",
        "    \n",
        "  "
      ],
      "execution_count": 10,
      "outputs": []
    },
    {
      "cell_type": "code",
      "metadata": {
        "id": "xvZaqbcl4azP"
      },
      "source": [
        "def fibonachi(n):\n",
        "  if n <= 1:\n",
        "      return n\n",
        "  else: \n",
        "    return (fibonachi(n - 1) + fibonachi(n-2))\n",
        "  \n",
        "  for n in range(20):\n",
        "      print(fibonacci(n))\n",
        "   \n"
      ],
      "execution_count": null,
      "outputs": []
    }
  ]
}