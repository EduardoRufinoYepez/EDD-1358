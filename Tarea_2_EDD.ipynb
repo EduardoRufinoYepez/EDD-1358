{
  "nbformat": 4,
  "nbformat_minor": 0,
  "metadata": {
    "colab": {
      "name": "Tarea_2_EDD.ipynb",
      "provenance": [],
      "authorship_tag": "ABX9TyOfGOuci1NIZZ6X0wkkV53E",
      "include_colab_link": true
    },
    "kernelspec": {
      "name": "python3",
      "display_name": "Python 3"
    },
    "language_info": {
      "name": "python"
    }
  },
  "cells": [
    {
      "cell_type": "markdown",
      "metadata": {
        "id": "view-in-github",
        "colab_type": "text"
      },
      "source": [
        "<a href=\"https://colab.research.google.com/github/EduardoRufinoYepez/EDD-1358/blob/main/Tarea_2_EDD.ipynb\" target=\"_parent\"><img src=\"https://colab.research.google.com/assets/colab-badge.svg\" alt=\"Open In Colab\"/></a>"
      ]
    },
    {
      "cell_type": "code",
      "metadata": {
        "id": "uJm6ES83zaUT"
      },
      "source": [
        "def medio( lista ):\n",
        "    if len( lista )%2 == 0:\n",
        "        if len( lista ) == 2:\n",
        "            lista.pop( 1 )\n",
        "\n",
        "            return lista\n",
        "        lista.pop( 0 )\n",
        "        lista.pop()\n",
        "        return medio( lista )\n",
        "\n",
        "    if len( lista ) == 1:\n",
        "        return lista\n",
        "    lista.pop( 0 )\n",
        "    lista.pop( -1 )\n",
        "    return medio( lista )\n",
        "    \n",
        "    \n"
      ],
      "execution_count": null,
      "outputs": []
    }
  ]
}