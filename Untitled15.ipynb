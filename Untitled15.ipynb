{
  "nbformat": 4,
  "nbformat_minor": 0,
  "metadata": {
    "colab": {
      "name": "Untitled15.ipynb",
      "provenance": [],
      "authorship_tag": "ABX9TyOk3TkgqTf8ZkcR9YRP76eg",
      "include_colab_link": true
    },
    "kernelspec": {
      "name": "python3",
      "display_name": "Python 3"
    },
    "language_info": {
      "name": "python"
    }
  },
  "cells": [
    {
      "cell_type": "markdown",
      "metadata": {
        "id": "view-in-github",
        "colab_type": "text"
      },
      "source": [
        "<a href=\"https://colab.research.google.com/github/EduardoRufinoYepez/EDD-1358/blob/main/Untitled15.ipynb\" target=\"_parent\"><img src=\"https://colab.research.google.com/assets/colab-badge.svg\" alt=\"Open In Colab\"/></a>"
      ]
    },
    {
      "cell_type": "code",
      "metadata": {
        "id": "x5hwdWVnhLBC"
      },
      "source": [
        "root = BinaryNode(\"santi\",None, BinaryNode( \"jesus\",BinaryNode(\"pedro\",None, BinaryNode(\"pedro chikito\"))))\n",
        "print( root.rigth.left.rigth.data )"
      ],
      "execution_count": null,
      "outputs": []
    },
    {
      "cell_type": "code",
      "metadata": {
        "id": "HG1wyN2MhMYy"
      },
      "source": [
        "class Array2D():\n",
        "  def __init__(self, ren ,col):\n",
        "    self.__columnas = col\n",
        "    self.__renglones = ren\n",
        "    self.__data = [[0 for i in range (col )]for i in range(ren )]\n",
        "  def to_string(self):\n",
        "    print(self.__data)\n",
        "    for i in range(self.__renglones):\n",
        "      print(self.__data[i])\n",
        "  def clear(self, dato):\n",
        "    for i in range (self.__renglones):\n",
        "      for x in range(self.__columnas):\n",
        "        self.__data[i][x] = dato\n",
        "  def get_row_size(self):\n",
        "    return (self.__renglones)\n",
        "  def get_col_size(self):\n",
        "    return (self.__columnas)\n",
        "  def set_item(self,ren,col,dato):\n",
        "    self.__data[ren][col] = dato\n",
        "    \n",
        "  def get_item(self,ren,col):\n",
        "    return self.__data[ren][col]"
      ],
      "execution_count": null,
      "outputs": []
    },
    {
      "cell_type": "code",
      "metadata": {
        "id": "oiL3YwENhOAy"
      },
      "source": [
        "tablero = Array2D(6,5) \n",
        "tablero.to_string()\n",
        "tablero.clear('N')\n",
        "print('------poblacion inicial----')\n",
        "tablero.to_string()\n",
        "\n",
        "print(\"--------una idea de como establecer la población inicial------\")\n",
        "poblacion_inicial = [(2,2) , (3,1) , (3,2) , (3,3)]\n",
        "\n",
        "for par in poblacion_inicial:\n",
        "  tablero.set_item(par[0],par[1], 'v')\n",
        "\n",
        "print(\"----poblacion inicial---\")\n",
        "tablero.to_string()\n",
        "# esto no se debe hacer porque es dificil de darle mantenimiento"
      ],
      "execution_count": null,
      "outputs": []
    },
    {
      "cell_type": "code",
      "metadata": {
        "id": "EnlYSbunhZeA"
      },
      "source": [
        "\"\"\"\n",
        "EN EL CONSTRUCTOR:\n",
        "   lista_pog:inicial es una lista de tuplas que contienen las cordenadas\n",
        "   ((ren, col)) de las celulas vivas en la pobñacion inicial\n",
        "\n",
        "\"\"\"\n",
        "\n",
        "class JuegoDeLaVidaADT:\n",
        "  def __init__(self,rens,cols, lista_pob_inicial, generaciones):\n",
        "    self.tablero = Array2D( rens, cols)#que ya conocemos\n",
        "    self.generaciones = generaciones# cuantas gen jugara el usuario\n",
        "    self.gen = 1# se inicializa lageneracion\n",
        "    self.tablero.clear('M')\n",
        "    for par in lista_pob_inicial:\n",
        "      self.tablero.set_item(par[0], par[1], 'v')\n",
        "  def to_string(self):\n",
        "    print(f\"------GENERACIÓN {self.gen}\")\n",
        "    self.tablero.to_string()\n",
        "\n",
        "  \"\"\"\n",
        "  get_vecinos( r, c)\n",
        "  va a calcular los vecinos de la celula en la pos. r , c\n",
        "  y regresará las coordenadas de los mismos\n",
        "\n",
        "  get_vecinos(0,0) -> [(0,1),(1,0),(1,1)]\n",
        "  get_vecinos(2,1) -> [(1,0),(1,1),(1,2)]\n",
        "  \"\"\"\n",
        "  def get_vecinos( self,r , c ):\n",
        "    vecinos = []\n",
        "    for ren in range (r -1, r + 2, 1):\n",
        "      for col in range(c - 1, c + 2, 1):\n",
        "        if ren < 0 or ren >= self.tablero.get_row_size() or col < 0 or col >= self.tablero.get_col_size() or (ren==r and col==c):\n",
        "          pass \n",
        "        else:\n",
        "          vecinos.append((ren, col))\n",
        "    return vecinos\n",
        "  \"\"\"\n",
        "  get_vecinos_vivos( r , c )\n",
        "  \"\"\"\n",
        "  def get_vecinos_vivos(self , r, c):\n",
        "    vivos = 0\n",
        "    vecinos = self.get_vecinos(r, c)\n",
        "    for par in vecinos:\n",
        "      if self.tablero.get_item(par[0],par[1])=='v':\n",
        "        vivos += 1   \n",
        "    return vivos\n",
        "\"\"\"\n",
        "recorrer todo el grid para aplicar las 4 reglas celula por \n",
        "celula, ir agregando el resultado en una copia del tablero oiginal\n",
        "al final sustituir el tablero general por el local.\n",
        "\"\"\"\n",
        "def aplicar_reglas():\n",
        "  pass"
      ],
      "execution_count": null,
      "outputs": []
    },
    {
      "cell_type": "code",
      "metadata": {
        "id": "1-nmi3lNhbUT"
      },
      "source": [
        "juego = JuegoDeLaVidaADT(6,5,[(2,2),(3,1),(3,2),(3,3)],5)\n",
        "  \n",
        "juego.to_string()\n",
        "print(\"vecinos de 5,4\")\n",
        "print(juego.get_vecinos(5,4))\n",
        "r = 2\n",
        "c = 2\n",
        "print(f\"vecinos vivos de {r},{c} son  {juego.get_vecinos_vivos(r,c)}\")"
      ],
      "execution_count": null,
      "outputs": []
    },
    {
      "cell_type": "code",
      "metadata": {
        "id": "RB7dD5PvhdHC"
      },
      "source": [
        "juego.to_string()\n",
        "print(\"vecinos de 5,4\")\n",
        "print(juego.get_vecinos(5,4))"
      ],
      "execution_count": null,
      "outputs": []
    },
    {
      "cell_type": "code",
      "metadata": {
        "id": "1lxPcVkrhgCj"
      },
      "source": [
        "from simple_chalk import chalk\n",
        "\n",
        "\n",
        "nombre = \"Eduardo\" \n",
        "edad = 21 \n",
        "print(nombre , edad)\n",
        "print(chalk.green(nombre ))\n",
        "print(chalk.blue.bgWhite(edad))"
      ],
      "execution_count": null,
      "outputs": []
    }
  ]
}