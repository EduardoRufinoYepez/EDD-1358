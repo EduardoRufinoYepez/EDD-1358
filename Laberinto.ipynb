{
  "nbformat": 4,
  "nbformat_minor": 0,
  "metadata": {
    "colab": {
      "name": "Laberinto.ipynb",
      "provenance": [],
      "authorship_tag": "ABX9TyPA9e1R4DAM8JZiaZkTBCbt",
      "include_colab_link": true
    },
    "kernelspec": {
      "name": "python3",
      "display_name": "Python 3"
    },
    "language_info": {
      "name": "python"
    }
  },
  "cells": [
    {
      "cell_type": "markdown",
      "metadata": {
        "id": "view-in-github",
        "colab_type": "text"
      },
      "source": [
        "<a href=\"https://colab.research.google.com/github/EduardoRufinoYepez/EDD-1358/blob/Trabajo/Laberinto.ipynb\" target=\"_parent\"><img src=\"https://colab.research.google.com/assets/colab-badge.svg\" alt=\"Open In Colab\"/></a>"
      ]
    },
    {
      "cell_type": "code",
      "metadata": {
        "id": "zm4p8hvX2hLg"
      },
      "source": [
        "class StackADT:\n",
        "  def __init__(self):\n",
        "    self.data = list()\n",
        "    self.tope = 0\n",
        "\n",
        "  def is_empty(self):\n",
        "    return self.tope == 0  \n",
        "\n",
        "  def length(self):\n",
        "    return self.tope \n",
        "\n",
        "  def pop(self):\n",
        "    if not self.is_empty():\n",
        "      self.tope -= 1  \n",
        "      return self.data.pop()\n",
        "\n",
        "  def peek(self):\n",
        "    return self.data[self.tope -1]\n",
        "\n",
        "  def push(self, value):\n",
        "    self.data.append(value)\n",
        "    self.tope += 1    \n",
        "\n",
        "  def to_string(self):\n",
        "    print(\"ESTADO DE LA PILA ES: \")\n",
        "    for elem in self.data[ : :-1]:\n",
        "      print(f\"|{elem}|\")"
      ],
      "execution_count": null,
      "outputs": []
    },
    {
      "cell_type": "code",
      "metadata": {
        "id": "4DCNywIo2nGS"
      },
      "source": [
        "class Array2D():\n",
        "  def __init__(self, ren, col):\n",
        "    self.__columnas = col\n",
        "    self.__renglones = ren\n",
        "    self.__data = [[ 0 for i in range(col)]for i in range (ren)]\n",
        "\n",
        "  def to_string(self):\n",
        "    for i in range(self.__renglones):\n",
        "      print(self.__data[i])\n",
        "\n",
        "  def clear(self, dato):\n",
        "    for i in range (self.__renglones):\n",
        "      for x in range(self.__columnas):\n",
        "        self.__data[i][x] = dato\n",
        "\n",
        "  def get_row_size(self):\n",
        "    return self.__renglones\n",
        "\n",
        "  def get_col_size(self):\n",
        "    return self.__columnas\n",
        "\n",
        "  def set_item(self,ren,col,dato):\n",
        "    self.__data[ren][col] = dato\n",
        "\n",
        "  def get_item(self,ren,col):\n",
        "    return self.__data[ren][col]"
      ],
      "execution_count": null,
      "outputs": []
    },
    {
      "cell_type": "code",
      "metadata": {
        "id": "AGcgiB9Y2qzI"
      },
      "source": [
        "class LaberintoADT:\n",
        "  def __init__(self,archivo):\n",
        "    self.laberinto = None #Array2D\n",
        "    self.camino = StackADT()\n",
        "    self.inicializa(archivo)\n",
        "    self.laberinto.to_string()\n",
        "    print(\"Stack\")\n",
        "    self.camino.to_string()\n",
        "\n",
        "    \"\"\"\n",
        "    P ---> Pared\n",
        "    C ---> Corredor\n",
        "    E ---> Entrada\n",
        "    S ---> Salida\n",
        "    X ---> Ya visitado\n",
        "\n",
        "    \"\"\"   \n",
        "\n",
        "  def inicializa(self,archivo):\n",
        "    entrada = open(archivo, 'rt')\n",
        "    self.laberinto = Array2D(int(entrada.readline().strip()), int(entrada.readline().strip()))\n",
        "    self.laberinto.clear(\"P\")\n",
        "    lineas = entrada.readlines()\n",
        "\n",
        "    for r in range(len(lineas)):\n",
        "      lineaBis = lineas[r].strip().split(',')\n",
        "      for c in range(len(lineaBis)):\n",
        "        self.laberinto.set_item(r,c,lineaBis[c])\n",
        "\n",
        "    #buscar la entrada\n",
        "    for r in range(self.laberinto.get_row_size()):\n",
        "      for c in range(self.laberinto.get_col_size()):\n",
        "        if self.laberinto.get_item(r,c) == 'E':\n",
        "          self.camino.push((r,c))"
      ],
      "execution_count": null,
      "outputs": []
    },
    {
      "cell_type": "code",
      "metadata": {
        "id": "buNvvaAl2v9b",
        "colab": {
          "base_uri": "https://localhost:8080/",
          "height": 163
        },
        "outputId": "d7eca3a3-345c-4d68-fc8d-a93d649be43a"
      },
      "source": [
        "juego = LaberintoADT('entrada2.txt')"
      ],
      "execution_count": null,
      "outputs": [
        {
          "output_type": "error",
          "ename": "NameError",
          "evalue": "ignored",
          "traceback": [
            "\u001b[0;31m---------------------------------------------------------------------------\u001b[0m",
            "\u001b[0;31mNameError\u001b[0m                                 Traceback (most recent call last)",
            "\u001b[0;32m<ipython-input-1-8bbe19b29b85>\u001b[0m in \u001b[0;36m<module>\u001b[0;34m()\u001b[0m\n\u001b[0;32m----> 1\u001b[0;31m \u001b[0mjuego\u001b[0m \u001b[0;34m=\u001b[0m \u001b[0mLaberintoADT\u001b[0m\u001b[0;34m(\u001b[0m\u001b[0;34m'entrada2.txt'\u001b[0m\u001b[0;34m)\u001b[0m\u001b[0;34m\u001b[0m\u001b[0;34m\u001b[0m\u001b[0m\n\u001b[0m",
            "\u001b[0;31mNameError\u001b[0m: name 'LaberintoADT' is not defined"
          ]
        }
      ]
    }
  ]
}