{
  "nbformat": 4,
  "nbformat_minor": 0,
  "metadata": {
    "colab": {
      "name": "Tarea2_EDD.ipynb",
      "provenance": [],
      "authorship_tag": "ABX9TyOi7hcIvdBjPIU1BQTjNXks",
      "include_colab_link": true
    },
    "kernelspec": {
      "name": "python3",
      "display_name": "Python 3"
    },
    "language_info": {
      "name": "python"
    }
  },
  "cells": [
    {
      "cell_type": "markdown",
      "metadata": {
        "id": "view-in-github",
        "colab_type": "text"
      },
      "source": [
        "<a href=\"https://colab.research.google.com/github/EduardoRufinoYepez/EDD-1358/blob/main/Tarea2_EDD.ipynb\" target=\"_parent\"><img src=\"https://colab.research.google.com/assets/colab-badge.svg\" alt=\"Open In Colab\"/></a>"
      ]
    },
    {
      "cell_type": "code",
      "metadata": {
        "id": "6Gel8IPfnW5f"
      },
      "source": [
        "def numValid(msg):\n",
        "    while True:\n",
        "        try:\n",
        "            userInput = int(input(msg))\n",
        "        except ValueError:\n",
        "            print(\"Eso no es un numero\")\n",
        "            continue\n",
        "        else:\n",
        "            return userInput\n",
        "        break\n",
        "\n",
        "def countRecur(num):\n",
        "    print(num)\n",
        "    if num == 0:\n",
        "        return \"BOOOOOOOOOOOM!!!!!!\"\n",
        "    return countRecur(num - 1)\n",
        "\n",
        "def countRun():\n",
        "    num = AssortedMethods.numValid(\"¿Con qué número se iniciara el contador?: \")\n",
        "    print(countRecur(num))\n",
        "\n",
        "    fib = [0, 1]\n",
        "def serieRecur(num):\n",
        "    if num > 0 and num <= len(fib):\n",
        "        return fib[num-1]\n",
        "    else:\n",
        "        calc = serieRecur(num-1) + serieRecur(num-2)\n",
        "        if num > len(fib):\n",
        "            fib.append(calc)\n",
        "        return calc\n",
        "\n",
        "def serieRun():\n",
        "    num = serieRecur(AssortedMethods.numValid(\"Ingresar un número para la serie de Fibonacci: \"))\n",
        "    print(fib)"
      ],
      "execution_count": 19,
      "outputs": []
    }
  ]
}